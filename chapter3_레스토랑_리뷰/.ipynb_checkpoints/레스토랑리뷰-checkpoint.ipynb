{
 "cells": [
  {
   "cell_type": "code",
   "execution_count": 15,
   "id": "15fba265",
   "metadata": {},
   "outputs": [],
   "source": [
    "import collections\n",
    "import numpy as np\n",
    "import pandas as pd\n",
    "import re\n",
    "\n",
    "from argparse import Namespace"
   ]
  },
  {
   "cell_type": "code",
   "execution_count": 24,
   "id": "1249ede0",
   "metadata": {},
   "outputs": [],
   "source": [
    "args = Namespace(\n",
    "    raw_train_dataset_csv=\"data/yelp/raw_train.csv\",\n",
    "    raw_test_dataset_csv=\"data/yelp/raw_test.csv\",\n",
    "    proportion_subset_of_train=0.1,\n",
    "    train_proportion=0.7,\n",
    "    val_proportion=0.15,\n",
    "    test_proportion=0.15,\n",
    "    output_munged_csv=\"data/yelp/reviews_with_splits_lite.csv\",\n",
    "    seed=1337\n",
    ")"
   ]
  },
  {
   "cell_type": "code",
   "execution_count": 37,
   "id": "7df45076",
   "metadata": {},
   "outputs": [
    {
     "name": "stderr",
     "output_type": "stream",
     "text": [
      "Skipping line 515818: unexpected end of data\n"
     ]
    }
   ],
   "source": [
    "# 원본 데이터를 읽습니다\n",
    "train_reviews = pd.read_csv(args.raw_train_dataset_csv,header=None, names=['rating', 'review'], engine = 'python',encoding='utf-8',error_bad_lines=False)\n",
    "\n",
    "# pd.read_cvs()에서 error_bad_lines = False 로 설정해서 오류가 있는 줄을 skip해서 데이터를 받았다. 이것때문에 구글링 엄청 했다.\n",
    "# 추가로 header = None, names = [~] 를 하면 ,로 구분되는 csv 파일에 있어서 아무 열에도 이름이 없으니 해당 열에 해당 이름을 붙인다는 뜻이다."
   ]
  },
  {
   "cell_type": "markdown",
   "id": "5adf97f4",
   "metadata": {},
   "source": [
    "# # 읽어온 데이터를 by_rating에 딕셔너리로 저장한다\n"
   ]
  },
  {
   "cell_type": "code",
   "execution_count": 50,
   "id": "6c9fc24a",
   "metadata": {},
   "outputs": [
    {
     "name": "stdout",
     "output_type": "stream",
     "text": [
      "1\n",
      "1\n"
     ]
    }
   ],
   "source": [
    "# 리뷰 클래스 비율이 동일하도록 만듭니다\n",
    "by_rating = collections.defaultdict(list) # default값을 지정할 수 있는 dict -> list, set 등을 정리할때 유용하다\n",
    "for _, row in train_reviews.iterrows(): # iterrows() -> index와 해당 행에 접근)(한 줄씩 접근)\n",
    "    by_rating[row.rating].append(row.to_dict()) # 판다스에서 df.열이름 -> 해당 열에 접근할 수 있다, (==df['열이름'])\n",
    "                                # df.to_dict() -> 사전형으로 변환, 이때 이중 딕셔너리 구조('열 1' : {인덱스 : 값 ...}, '열 2' : )\n",
    "                                # 이때 해당 코드는 iterrows로 한 줄씩 가져와서 사전으로 바꾸므로 그냥 딕셔너리 구조를 가짐\n",
    "# 딕셔너리 by_rating은 딕셔너리 구조를 원소로 갖는 리스트를 가지는 딕셔너리 key '1','2'를 가진다.\n",
    "review_subset = []\n",
    "for _, item_list in sorted(by_rating.items()): #by_rating.items() -> key와 value 쌍 -> key => 1,2 / value => 딕셔너리의 리스트\n",
    "    # 즉, 딕셔너리의 리스트를 정렬한다는 뜻!\n",
    "    \n",
    "    n_total = len(item_list) # 리스트가 원소로 가지는 딕셔너리의 갯수\n",
    "    n_subset = int(args.proportion_subset_of_train * n_total) # lite버전이므로 데이터의 10퍼센트만 사용한다는 뜻(0.1 * 갯수)\n",
    "    review_subset.extend(item_list[:n_subset]) # extend 와 append의 차이점 => extend는 반복자의 원소를 모두 삽입, append는 반복자 하나를 원소 자체로 삽입\n",
    "    \n",
    "review_subset = pd.DataFrame(review_subset)"
   ]
  },
  {
   "cell_type": "code",
   "execution_count": 39,
   "id": "a6d4c462",
   "metadata": {},
   "outputs": [
    {
     "data": {
      "text/html": [
       "<div>\n",
       "<style scoped>\n",
       "    .dataframe tbody tr th:only-of-type {\n",
       "        vertical-align: middle;\n",
       "    }\n",
       "\n",
       "    .dataframe tbody tr th {\n",
       "        vertical-align: top;\n",
       "    }\n",
       "\n",
       "    .dataframe thead th {\n",
       "        text-align: right;\n",
       "    }\n",
       "</style>\n",
       "<table border=\"1\" class=\"dataframe\">\n",
       "  <thead>\n",
       "    <tr style=\"text-align: right;\">\n",
       "      <th></th>\n",
       "      <th>rating</th>\n",
       "      <th>review</th>\n",
       "    </tr>\n",
       "  </thead>\n",
       "  <tbody>\n",
       "    <tr>\n",
       "      <th>0</th>\n",
       "      <td>1</td>\n",
       "      <td>Unfortunately, the frustration of being Dr. Go...</td>\n",
       "    </tr>\n",
       "    <tr>\n",
       "      <th>1</th>\n",
       "      <td>1</td>\n",
       "      <td>I don't know what Dr. Goldberg was like before...</td>\n",
       "    </tr>\n",
       "    <tr>\n",
       "      <th>2</th>\n",
       "      <td>1</td>\n",
       "      <td>I'm writing this review to give you a heads up...</td>\n",
       "    </tr>\n",
       "    <tr>\n",
       "      <th>3</th>\n",
       "      <td>1</td>\n",
       "      <td>Wing sauce is like water. Pretty much a lot of...</td>\n",
       "    </tr>\n",
       "    <tr>\n",
       "      <th>4</th>\n",
       "      <td>1</td>\n",
       "      <td>Owning a driving range inside the city limits ...</td>\n",
       "    </tr>\n",
       "  </tbody>\n",
       "</table>\n",
       "</div>"
      ],
      "text/plain": [
       "   rating                                             review\n",
       "0       1  Unfortunately, the frustration of being Dr. Go...\n",
       "1       1  I don't know what Dr. Goldberg was like before...\n",
       "2       1  I'm writing this review to give you a heads up...\n",
       "3       1  Wing sauce is like water. Pretty much a lot of...\n",
       "4       1  Owning a driving range inside the city limits ..."
      ]
     },
     "execution_count": 39,
     "metadata": {},
     "output_type": "execute_result"
    }
   ],
   "source": [
    "review_subset.head()"
   ]
  },
  {
   "cell_type": "code",
   "execution_count": 54,
   "id": "db1ae245",
   "metadata": {},
   "outputs": [
    {
     "name": "stdout",
     "output_type": "stream",
     "text": [
      "1    259235\n",
      "2    256582\n",
      "Name: rating, dtype: int64\n"
     ]
    },
    {
     "data": {
      "text/plain": [
       "1    25923\n",
       "2    25658\n",
       "Name: rating, dtype: int64"
      ]
     },
     "execution_count": 54,
     "metadata": {},
     "output_type": "execute_result"
    }
   ],
   "source": [
    "print(train_reviews.rating.value_counts()) # df.value_counts() -> 유일한 값의 원소의 갯수 / df.unique -> 유일한 값의 갯수(고유갯수)\n",
    "print(review_subset.rating.value_counts())\n",
    "# 전체 갯수와 우리가 사용할 데이터 갯수 비교"
   ]
  },
  {
   "cell_type": "markdown",
   "id": "f62829cb",
   "metadata": {},
   "source": [
    "판다스에서 딕셔너리로 만들어진 시리즈는 데이터프레임의 하나의 열이라고 할 수 있다.  \n",
    "\n",
    "즉, {'rating' : [1,1,1,2,2,2,2.....]}, {'review' : [\"\\~\",\"\\~\"]} 이 두 시리즈가 열이 되어 합쳐져 하나의 데이터 프레임을 만드는 것이다.  \n",
    "\n",
    "{'a' : 1, 'b' : 2 ....}처럼 하나의 딕셔너리에 여러 key가 있다면 이 시리즈는 key가 index가 되고 value가 값이 되는 데이터 프레임을 만든다."
   ]
  },
  {
   "cell_type": "code",
   "execution_count": 58,
   "id": "00257949",
   "metadata": {},
   "outputs": [],
   "source": [
    "# 훈련, 검증, 테스트를 만들기 위해 별점을 기준으로 나눕니다\n",
    "by_rating = collections.defaultdict(list)\n",
    "for _, row in review_subset.iterrows():\n",
    "    by_rating[row.rating].append(row.to_dict())\n",
    "\n",
    "# 분할 데이터를 만듭니다.\n",
    "final_list = []\n",
    "np.random.seed(args.seed)\n",
    "\n",
    "for _, item_list in sorted(by_rating.items()):\n",
    "\n",
    "    np.random.shuffle(item_list)\n",
    "    \n",
    "    n_total = len(item_list)\n",
    "    n_train = int(args.train_proportion * n_total)\n",
    "    n_val = int(args.val_proportion * n_total)\n",
    "    n_test = int(args.test_proportion * n_total)\n",
    "    \n",
    "    # 데이터 포인터에 분할 속성을 추가합니다\n",
    "    for item in item_list[:n_train]: # item_list 는 딕셔너리를 원소로 가지는 리스트 따라서 item 은 딕셔너리이다.\n",
    "                                    ### ([{랭크 : ~, 리뷰 : ~},{랭크 : ~, 리뷰 : ~},{랭크 : ~, 리뷰 : ~},,,])###\n",
    "        item['split'] = 'train'\n",
    "    \n",
    "    for item in item_list[n_train:n_train+n_val]:\n",
    "        item['split'] = 'val'\n",
    "        \n",
    "    for item in item_list[n_train+n_val:n_train+n_val+n_test]:\n",
    "        item['split'] = 'test'\n",
    "\n",
    "    # 최종 리스트에 추가합니다\n",
    "    final_list.extend(item_list)"
   ]
  },
  {
   "cell_type": "code",
   "execution_count": 59,
   "id": "a7442735",
   "metadata": {},
   "outputs": [],
   "source": [
    "final_reviews = pd.DataFrame(final_list)"
   ]
  },
  {
   "cell_type": "code",
   "execution_count": 65,
   "id": "e180fdf5",
   "metadata": {},
   "outputs": [
    {
     "data": {
      "text/plain": [
       "train    36106\n",
       "val       7736\n",
       "test      7736\n",
       "Name: split, dtype: int64"
      ]
     },
     "execution_count": 65,
     "metadata": {},
     "output_type": "execute_result"
    }
   ],
   "source": [
    "final_reviews.split.value_counts()"
   ]
  },
  {
   "cell_type": "code",
   "execution_count": null,
   "id": "2e894c3b",
   "metadata": {},
   "outputs": [],
   "source": [
    "# 리뷰를 전처리합니다\n",
    "def preprocess_text(text):\n",
    "    text = text.lower()\n",
    "    text = re.sub(r\"([.,!?])\", r\" \\1 \", text)\n",
    "    text = re.sub(r\"[^a-zA-Z.,!?]+\", r\" \", text)\n",
    "    return text\n",
    "    \n",
    "final_reviews.review = final_reviews.review.apply(preprocess_text)"
   ]
  },
  {
   "cell_type": "code",
   "execution_count": null,
   "id": "6fbce837",
   "metadata": {},
   "outputs": [],
   "source": [
    "final_reviews['rating'] = final_reviews.rating.apply({1: 'negative', 2: 'positive'}.get)"
   ]
  },
  {
   "cell_type": "code",
   "execution_count": null,
   "id": "48940c66",
   "metadata": {},
   "outputs": [],
   "source": [
    "final_reviews.head()"
   ]
  },
  {
   "cell_type": "code",
   "execution_count": null,
   "id": "b35122cb",
   "metadata": {},
   "outputs": [],
   "source": [
    "final_reviews.to_csv(args.output_munged_csv, index=False)"
   ]
  },
  {
   "cell_type": "code",
   "execution_count": null,
   "id": "3298e806",
   "metadata": {},
   "outputs": [],
   "source": []
  },
  {
   "cell_type": "code",
   "execution_count": null,
   "id": "ae8a9ed8",
   "metadata": {},
   "outputs": [],
   "source": []
  }
 ],
 "metadata": {
  "kernelspec": {
   "display_name": "Python 3 (ipykernel)",
   "language": "python",
   "name": "python3"
  },
  "language_info": {
   "codemirror_mode": {
    "name": "ipython",
    "version": 3
   },
   "file_extension": ".py",
   "mimetype": "text/x-python",
   "name": "python",
   "nbconvert_exporter": "python",
   "pygments_lexer": "ipython3",
   "version": "3.9.6"
  }
 },
 "nbformat": 4,
 "nbformat_minor": 5
}
